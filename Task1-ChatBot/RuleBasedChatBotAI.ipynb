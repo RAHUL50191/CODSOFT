{
 "cells": [
  {
   "cell_type": "code",
   "execution_count": null,
   "id": "ea89262b",
   "metadata": {},
   "outputs": [
    {
     "name": "stdout",
     "output_type": "stream",
     "text": [
      "who ?\n",
      "Who is that!!\n",
      "how ?\n",
      "How are you\n",
      "what ? date today\n",
      "2023-09-29 12:38:49.086769\n"
     ]
    }
   ],
   "source": [
    "import re\n",
    "import datetime\n",
    "\n",
    "def isDict(obj):\n",
    "  return type(obj) is dict\n",
    "\n",
    "def chatbot(user_input):\n",
    "    hello={\n",
    "        \"!\":\"Hello! User\",\n",
    "        \"world\":\"hello world\",\n",
    "        \"chatbot\":\"hello from user\",\n",
    "        \"user\":\"Welcome to chatbot,how may i help you\"\n",
    "    }\n",
    "    date={\n",
    "        \"today\":datetime.date.today(),\n",
    "        \"yesterday\":(datetime.date.today() - datetime.timedelta(days = 1)),\n",
    "        \"nextday\":(datetime.date.today() + datetime.timedelta(days = 1))\n",
    "    }\n",
    "    what={\"whether\":\"It's cloudy outside\",\"date\":date}\n",
    "    question={\n",
    "            \"how\":\"How are you\",\n",
    "            \"what\":what,\n",
    "            \"where\":\"Where is it\",\n",
    "            \"whose\":\"Whose gonna ask\",\n",
    "            \"when\":\"When was That!!\",\n",
    "            \"who\":\"Who is that!!\"\n",
    "        }\n",
    "    \n",
    "    rules = {\n",
    "        \"hello\": hello,\n",
    "        \"?\":question,\n",
    "        \"thank you\": \"You're welcome!\",\n",
    "        \"goodbye\": \"Goodbye!\"\n",
    "    }\n",
    "     \n",
    "#     response = rules.get(userInput)\n",
    "    #check if dict then check again \n",
    "    response=rules\n",
    "    while isDict(response):\n",
    "        for key,value in response.items():\n",
    "            pattern=re.escape(key)\n",
    "            match=re.search(pattern,userInput)\n",
    "            if match:\n",
    "#                 print(key,value,pattern)\n",
    "                response=value\n",
    "                break\n",
    "    if response is None:\n",
    "        response = \"I don't understand your query. Please try again.\"\n",
    "\n",
    "    return response\n",
    "\n",
    "while(True): \n",
    "    userInput = input().lower()\n",
    "    print(chatbot(userInput))\n"
   ]
  }
 ],
 "metadata": {
  "kernelspec": {
   "display_name": "Python 3 (ipykernel)",
   "language": "python",
   "name": "python3"
  },
  "language_info": {
   "codemirror_mode": {
    "name": "ipython",
    "version": 3
   },
   "file_extension": ".py",
   "mimetype": "text/x-python",
   "name": "python",
   "nbconvert_exporter": "python",
   "pygments_lexer": "ipython3",
   "version": "3.11.4"
  }
 },
 "nbformat": 4,
 "nbformat_minor": 5
}
